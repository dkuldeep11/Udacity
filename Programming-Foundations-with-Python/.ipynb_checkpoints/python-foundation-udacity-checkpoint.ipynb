{
 "metadata": {
  "name": "",
  "signature": "sha256:8c66a7879e2e7740757e578c10be3f493ed14e836813aa5522527207d22bbf15"
 },
 "nbformat": 3,
 "nbformat_minor": 0,
 "worksheets": []
}